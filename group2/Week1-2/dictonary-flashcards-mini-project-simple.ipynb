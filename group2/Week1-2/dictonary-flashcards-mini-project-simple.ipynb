{
 "cells": [
  {
   "cell_type": "markdown",
   "metadata": {
    "collapsed": false
   },
   "source": [
    "<h1>Flash Card Mini Project</h1>\n",
    "This is a project covering a range of python topics, from storage to functions. This lets you define flashcards, then test your knowledge against them.\n",
    "\n",
    "This project is broken into 3 parts. The first covers creating and storing the flashcards, the second covers creating the loop, and the third covers validating the input"
   ]
  },
  {
   "cell_type": "markdown",
   "metadata": {
    "collapsed": false
   },
   "source": [
    "<h3>The Flashcards</h3>"
   ]
  },
  {
   "cell_type": "markdown",
   "metadata": {
    "collapsed": false
   },
   "source": [
    "In python, we can create a dictionary like this:\n",
    "\n"
   ]
  },
  {
   "cell_type": "code",
   "execution_count": 0,
   "metadata": {
    "collapsed": false,
    "vscode": {
     "languageId": "plaintext"
    }
   },
   "outputs": [
   ],
   "source": [
    "dict = {'key0':'value0', 'key1':'value1'}"
   ]
  },
  {
   "cell_type": "markdown",
   "metadata": {
    "collapsed": false
   },
   "source": [
    "Notice the curly braces, which denote a dictionary, and the colon, which pairs the key and the value. The values paired together can be anything.\n",
    "\n",
    "This pairing allows us to access the value like this (and we can print with the print() statement):\n",
    "\n"
   ]
  },
  {
   "cell_type": "code",
   "execution_count": 0,
   "metadata": {
    "collapsed": false,
    "vscode": {
     "languageId": "plaintext"
    }
   },
   "outputs": [
   ],
   "source": [
    "print(dict['key1'])"
   ]
  },
  {
   "cell_type": "markdown",
   "metadata": {
    "collapsed": false
   },
   "source": [
    "Aditionally, we can add an entry like this:"
   ]
  },
  {
   "cell_type": "code",
   "execution_count": 0,
   "metadata": {
    "collapsed": false,
    "vscode": {
     "languageId": "plaintext"
    }
   },
   "outputs": [
   ],
   "source": [
    "dict['key2'] = 'value2'\n",
    "print(dict)"
   ]
  },
  {
   "cell_type": "markdown",
   "metadata": {
    "collapsed": false
   },
   "source": [
    "And finally, we can remove an entry like this:"
   ]
  },
  {
   "cell_type": "code",
   "execution_count": 0,
   "metadata": {
    "collapsed": false,
    "vscode": {
     "languageId": "plaintext"
    }
   },
   "outputs": [
   ],
   "source": [
    "del dict['key2']\n",
    "print(dict)"
   ]
  },
  {
   "cell_type": "markdown",
   "metadata": {
    "collapsed": false
   },
   "source": [
    "Now make a dictionary of the flashcards (name it flashcards so other code syncs together) (the definition should be the key)"
   ]
  },
  {
   "cell_type": "code",
   "execution_count": 3,
   "metadata": {
    "collapsed": false,
    "vscode": {
     "languageId": "plaintext"
    }
   },
   "outputs": [
    {
     "name": "stdout",
     "output_type": "stream",
     "text": [
      "a small domesticated carnivorous mammal with soft fur, a short snout, and retractable claws. It is widely kept as a pet or for catching mice\n"
     ]
    }
   ],
   "source": [
    "flashcards = {\n",
    "    'cat':'a small domesticated carnivorous mammal with soft fur, a short snout, and retractable claws. It is widely kept as a pet or for catching mice',\n",
    "    'hat':'a shaped covering for the head worn for warmth, as a fashion item, or as part of a uniform.' ,\n",
    "    'flower':'the seed-bearing part of a plant, consisting of reproductive organs that are typically surrounded by a brightly colored corolla and a green calyx'}\n",
    "print(flashcards['cat'])"
   ]
  },
  {
   "cell_type": "markdown",
   "metadata": {
    "collapsed": false
   },
   "source": [
    "<h1>Running the loop</h1>\n",
    "\n"
   ]
  },
  {
   "cell_type": "markdown",
   "metadata": {
    "collapsed": false
   },
   "source": [
    "For this section, we will be creating the game loop. To do that, we need a dictionary. A sample of that is supplied here (make sure to run the next cell, but you don't need to do anything with it)"
   ]
  },
  {
   "cell_type": "code",
   "execution_count": 2,
   "metadata": {
    "collapsed": false,
    "vscode": {
     "languageId": "plaintext"
    }
   },
   "outputs": [
   ],
   "source": [
    "dict = {'key0':'value0', 'key1':'value1', 'key2':'value2'}"
   ]
  },
  {
   "cell_type": "markdown",
   "metadata": {
    "collapsed": false
   },
   "source": [
    "When we have this dictionary, we can run through it with a for loop like this:"
   ]
  },
  {
   "cell_type": "code",
   "execution_count": 5,
   "metadata": {
    "collapsed": false,
    "vscode": {
     "languageId": "plaintext"
    }
   },
   "outputs": [
    {
     "ename": "ValueError",
     "evalue": "too many values to unpack (expected 2)",
     "output_type": "error",
     "traceback": [
      "\u001b[0;31m---------------------------------------------------------------------------\u001b[0m",
      "\u001b[0;31mValueError\u001b[0m                                Traceback (most recent call last)",
      "Input \u001b[0;32mIn [5]\u001b[0m, in \u001b[0;36m<cell line: 2>\u001b[0;34m()\u001b[0m\n\u001b[1;32m      1\u001b[0m \u001b[38;5;28mdict\u001b[39m \u001b[38;5;241m=\u001b[39m {\u001b[38;5;124m'\u001b[39m\u001b[38;5;124mkey0\u001b[39m\u001b[38;5;124m'\u001b[39m:\u001b[38;5;124m'\u001b[39m\u001b[38;5;124mvalue0\u001b[39m\u001b[38;5;124m'\u001b[39m, \u001b[38;5;124m'\u001b[39m\u001b[38;5;124mkey1\u001b[39m\u001b[38;5;124m'\u001b[39m:\u001b[38;5;124m'\u001b[39m\u001b[38;5;124mvalue1\u001b[39m\u001b[38;5;124m'\u001b[39m, \u001b[38;5;124m'\u001b[39m\u001b[38;5;124mkey2\u001b[39m\u001b[38;5;124m'\u001b[39m:\u001b[38;5;124m'\u001b[39m\u001b[38;5;124mvalue2\u001b[39m\u001b[38;5;124m'\u001b[39m}\n\u001b[0;32m----> 2\u001b[0m \u001b[38;5;28;01mfor\u001b[39;00m key, value \u001b[38;5;129;01min\u001b[39;00m \u001b[38;5;28mdict\u001b[39m:\n\u001b[1;32m      3\u001b[0m     \u001b[38;5;28mprint\u001b[39m(key,value)\n",
      "\u001b[0;31mValueError\u001b[0m: too many values to unpack (expected 2)"
     ]
    }
   ],
   "source": [
    "dict = {'key0':'value0', 'key1':'value1', 'key2':'value2'}\n",
    "for key, value in dict:\n",
    "    print(key,value)"
   ]
  },
  {
   "cell_type": "markdown",
   "metadata": {
    "collapsed": false
   },
   "source": [
    "This loops through each pair in the dictionary, saving the key to the variable key, and the value to the variable value\n",
    "\n",
    "Now that we have the keys, we can collect the user's guess using the input function and assign the result to a variable"
   ]
  },
  {
   "cell_type": "code",
   "execution_count": 0,
   "metadata": {
    "collapsed": false,
    "vscode": {
     "languageId": "plaintext"
    }
   },
   "outputs": [
   ],
   "source": [
    "guess = input()"
   ]
  },
  {
   "cell_type": "markdown",
   "metadata": {
    "collapsed": false
   },
   "source": [
    "But how will the student know what to write? To adress this, the input function allows us to give a prompt"
   ]
  },
  {
   "cell_type": "code",
   "execution_count": 0,
   "metadata": {
    "collapsed": false,
    "vscode": {
     "languageId": "plaintext"
    }
   },
   "outputs": [
   ],
   "source": [
    "guess = input('enter your guess')\n",
    "# or\n",
    "prompt = 'enter your guess'\n",
    "guess = input(prompt)"
   ]
  },
  {
   "cell_type": "markdown",
   "metadata": {
    "collapsed": false
   },
   "source": [
    "Now you can put it together to make the loop:"
   ]
  },
  {
   "cell_type": "code",
   "execution_count": 10,
   "metadata": {
    "cocalc": {
     "outputs": {
      "1": {
       "name": "input",
       "opts": {
        "password": false,
        "prompt": "what is this word?"
       },
       "output_type": "stream",
       "value": "cat"
      },
      "3": {
       "name": "input",
       "opts": {
        "password": false,
        "prompt": "Guess what word this is?"
       },
       "output_type": "stream",
       "value": "hat"
      },
      "5": {
       "name": "input",
       "opts": {
        "password": false,
        "prompt": "Guess what word this is?"
       },
       "output_type": "stream"
      }
     }
    },
    "collapsed": false,
    "vscode": {
     "languageId": "plaintext"
    }
   },
   "outputs": [
    {
     "name": "stdout",
     "output_type": "stream",
     "text": [
      "This is a word guessing game\n",
      "a small domesticated carnivorous mammal with soft fur, a short snout, and retractable claws. It is widely kept as a pet or for catching mice\n"
     ]
    },
    {
     "name": "stdout",
     "output_type": "stream",
     "text": "what is this word? cat"
    },
    {
     "name": "stdout",
     "output_type": "stream",
     "text": [
      "Incorrect, the answer was cat.\n",
      "a shaped covering for the head worn for warmth, as a fashion item, or as part of a uniform.\n",
      "Here is your next word:\n"
     ]
    },
    {
     "name": "stdout",
     "output_type": "stream",
     "text": "Guess what word this is? hat"
    },
    {
     "name": "stdout",
     "output_type": "stream",
     "text": [
      "Yay good job it's correct\n",
      "the seed-bearing part of a plant, consisting of reproductive organs that are typically surrounded by a brightly colored corolla and a green calyx\n",
      "Here is your next word:\n"
     ]
    },
    {
     "name": "stdout",
     "output_type": "stream",
     "text": "Guess what word this is? "
    },
    {
     "ename": "KeyboardInterrupt",
     "evalue": "Interrupted by user",
     "output_type": "error",
     "traceback": [
      "\u001b[0;31m---------------------------------------------------------------------------\u001b[0m",
      "\u001b[0;31mKeyboardInterrupt\u001b[0m                         Traceback (most recent call last)",
      "Input \u001b[0;32mIn [10]\u001b[0m, in \u001b[0;36m<cell line: 25>\u001b[0;34m()\u001b[0m\n\u001b[1;32m     23\u001b[0m \u001b[38;5;28mprint\u001b[39m(flashcards[\u001b[38;5;124m'\u001b[39m\u001b[38;5;124mflower\u001b[39m\u001b[38;5;124m'\u001b[39m])\n\u001b[1;32m     24\u001b[0m \u001b[38;5;28mprint\u001b[39m(\u001b[38;5;124m\"\u001b[39m\u001b[38;5;124mHere is your next word:\u001b[39m\u001b[38;5;124m\"\u001b[39m)\n\u001b[0;32m---> 25\u001b[0m guess3 \u001b[38;5;241m=\u001b[39m \u001b[38;5;28;43minput\u001b[39;49m\u001b[43m(\u001b[49m\u001b[38;5;124;43m'\u001b[39;49m\u001b[38;5;124;43mGuess what word this is?\u001b[39;49m\u001b[38;5;124;43m'\u001b[39;49m\u001b[43m)\u001b[49m\n\u001b[1;32m     26\u001b[0m \u001b[38;5;28;01mif\u001b[39;00m guess3 \u001b[38;5;241m==\u001b[39m \u001b[38;5;124m'\u001b[39m\u001b[38;5;124mflower\u001b[39m\u001b[38;5;124m'\u001b[39m:\n\u001b[1;32m     27\u001b[0m     \u001b[38;5;28mprint\u001b[39m(\u001b[38;5;124m\"\u001b[39m\u001b[38;5;124mYay good job it\u001b[39m\u001b[38;5;124m'\u001b[39m\u001b[38;5;124ms correct\u001b[39m\u001b[38;5;124m\"\u001b[39m)\n",
      "File \u001b[0;32m~/miniconda3/envs/nlp_env/lib/python3.8/site-packages/ipykernel/kernelbase.py:1075\u001b[0m, in \u001b[0;36mKernel.raw_input\u001b[0;34m(self, prompt)\u001b[0m\n\u001b[1;32m   1071\u001b[0m \u001b[38;5;28;01mif\u001b[39;00m \u001b[38;5;129;01mnot\u001b[39;00m \u001b[38;5;28mself\u001b[39m\u001b[38;5;241m.\u001b[39m_allow_stdin:\n\u001b[1;32m   1072\u001b[0m     \u001b[38;5;28;01mraise\u001b[39;00m StdinNotImplementedError(\n\u001b[1;32m   1073\u001b[0m         \u001b[38;5;124m\"\u001b[39m\u001b[38;5;124mraw_input was called, but this frontend does not support input requests.\u001b[39m\u001b[38;5;124m\"\u001b[39m\n\u001b[1;32m   1074\u001b[0m     )\n\u001b[0;32m-> 1075\u001b[0m \u001b[38;5;28;01mreturn\u001b[39;00m \u001b[38;5;28;43mself\u001b[39;49m\u001b[38;5;241;43m.\u001b[39;49m\u001b[43m_input_request\u001b[49m\u001b[43m(\u001b[49m\n\u001b[1;32m   1076\u001b[0m \u001b[43m    \u001b[49m\u001b[38;5;28;43mstr\u001b[39;49m\u001b[43m(\u001b[49m\u001b[43mprompt\u001b[49m\u001b[43m)\u001b[49m\u001b[43m,\u001b[49m\n\u001b[1;32m   1077\u001b[0m \u001b[43m    \u001b[49m\u001b[38;5;28;43mself\u001b[39;49m\u001b[38;5;241;43m.\u001b[39;49m\u001b[43m_parent_ident\u001b[49m\u001b[43m[\u001b[49m\u001b[38;5;124;43m\"\u001b[39;49m\u001b[38;5;124;43mshell\u001b[39;49m\u001b[38;5;124;43m\"\u001b[39;49m\u001b[43m]\u001b[49m\u001b[43m,\u001b[49m\n\u001b[1;32m   1078\u001b[0m \u001b[43m    \u001b[49m\u001b[38;5;28;43mself\u001b[39;49m\u001b[38;5;241;43m.\u001b[39;49m\u001b[43mget_parent\u001b[49m\u001b[43m(\u001b[49m\u001b[38;5;124;43m\"\u001b[39;49m\u001b[38;5;124;43mshell\u001b[39;49m\u001b[38;5;124;43m\"\u001b[39;49m\u001b[43m)\u001b[49m\u001b[43m,\u001b[49m\n\u001b[1;32m   1079\u001b[0m \u001b[43m    \u001b[49m\u001b[43mpassword\u001b[49m\u001b[38;5;241;43m=\u001b[39;49m\u001b[38;5;28;43;01mFalse\u001b[39;49;00m\u001b[43m,\u001b[49m\n\u001b[1;32m   1080\u001b[0m \u001b[43m\u001b[49m\u001b[43m)\u001b[49m\n",
      "File \u001b[0;32m~/miniconda3/envs/nlp_env/lib/python3.8/site-packages/ipykernel/kernelbase.py:1120\u001b[0m, in \u001b[0;36mKernel._input_request\u001b[0;34m(self, prompt, ident, parent, password)\u001b[0m\n\u001b[1;32m   1117\u001b[0m             \u001b[38;5;28;01mbreak\u001b[39;00m\n\u001b[1;32m   1118\u001b[0m \u001b[38;5;28;01mexcept\u001b[39;00m \u001b[38;5;167;01mKeyboardInterrupt\u001b[39;00m:\n\u001b[1;32m   1119\u001b[0m     \u001b[38;5;66;03m# re-raise KeyboardInterrupt, to truncate traceback\u001b[39;00m\n\u001b[0;32m-> 1120\u001b[0m     \u001b[38;5;28;01mraise\u001b[39;00m \u001b[38;5;167;01mKeyboardInterrupt\u001b[39;00m(\u001b[38;5;124m\"\u001b[39m\u001b[38;5;124mInterrupted by user\u001b[39m\u001b[38;5;124m\"\u001b[39m) \u001b[38;5;28;01mfrom\u001b[39;00m \u001b[38;5;28mNone\u001b[39m\n\u001b[1;32m   1121\u001b[0m \u001b[38;5;28;01mexcept\u001b[39;00m \u001b[38;5;167;01mException\u001b[39;00m:\n\u001b[1;32m   1122\u001b[0m     \u001b[38;5;28mself\u001b[39m\u001b[38;5;241m.\u001b[39mlog\u001b[38;5;241m.\u001b[39mwarning(\u001b[38;5;124m\"\u001b[39m\u001b[38;5;124mInvalid Message:\u001b[39m\u001b[38;5;124m\"\u001b[39m, exc_info\u001b[38;5;241m=\u001b[39m\u001b[38;5;28;01mTrue\u001b[39;00m)\n",
      "\u001b[0;31mKeyboardInterrupt\u001b[0m: Interrupted by user"
     ]
    }
   ],
   "source": [
    "flashcards = {\n",
    "    'cat':'a small domesticated carnivorous mammal with soft fur, a short snout, and retractable claws. It is widely kept as a pet or for catching mice',\n",
    "    'hat':'a shaped covering for the head worn for warmth, as a fashion item, or as part of a uniform.' ,\n",
    "    'flower':'the seed-bearing part of a plant, consisting of reproductive organs that are typically surrounded by a brightly colored corolla and a green calyx'}\n",
    "\n",
    "print(\"This is a word guessing game\")\n",
    "\n",
    "print(flashcards['cat'])\n",
    "guess1 = input('what is this word?')\n",
    "if guess1 == 'cat':\n",
    "    print(\"Good Job!\")\n",
    "else:\n",
    "    print(\"Incorrect, the answer was cat.\")\n",
    "\n",
    "print(\"Here is your next word:\")\n",
    "print(flashcards['hat'])\n",
    "guess2 = input('Guess what word this is?')\n",
    "if guess2 == 'hat':\n",
    "    print(\"Yay good job it's correct\")\n",
    "else:\n",
    "    print(\"Your answer was wrong, The correct answer is hat.\")\n",
    "\n",
    "print(\"Here is your next word:\")\n",
    "print(flashcards['flower'])\n",
    "guess3 = input('Guess what word this is?')\n",
    "if guess3 == 'flower':\n",
    "    print(\"Yay good job it's correct\")\n",
    "else:\n",
    "    print(\"Your answer was wrong, The correct answer is flower.\")\n",
    "\n",
    "print(\"Thanks for playing!\")"
   ]
  },
  {
   "cell_type": "markdown",
   "metadata": {
    "collapsed": false
   },
   "source": [
    "when your piece works, add the code check(v1,v2) to the end of your loop (where v1 is the name of your guess variable, and v2 is the name of the answer)\n",
    "\n"
   ]
  },
  {
   "cell_type": "markdown",
   "metadata": {
    "collapsed": false
   },
   "source": [
    "<h1>Validating guesses</h1>\n",
    "\n"
   ]
  },
  {
   "cell_type": "markdown",
   "metadata": {
    "collapsed": false
   },
   "source": [
    "We can compare our guess with the answer using an if else block\n",
    "\n"
   ]
  },
  {
   "cell_type": "code",
   "execution_count": 0,
   "metadata": {
    "collapsed": false,
    "vscode": {
     "languageId": "plaintext"
    }
   },
   "outputs": [
   ],
   "source": [
    "guess = 'English is a good language'\n",
    "answer = 'Python is the best language!'\n",
    "if guess == answer:\n",
    "    print('goood job! you got it right!')\n",
    "else:\n",
    "    print('To bad. The answer was:', answer) # note: when the print function is given 2 inputs, it prints both seperated by a space"
   ]
  },
  {
   "cell_type": "markdown",
   "metadata": {
    "collapsed": false
   },
   "source": [
    "But what if our user enters 'Python' and we wanted 'python' or the other way around? to do this, we make the cases match:\n",
    "\n"
   ]
  },
  {
   "cell_type": "code",
   "execution_count": 0,
   "metadata": {
    "collapsed": false,
    "vscode": {
     "languageId": "plaintext"
    }
   },
   "outputs": [
   ],
   "source": [
    "print('PythOn'.lower())\n",
    "print('python'.lower())\n",
    "print('PythOn'.lower()=='python'.lower())"
   ]
  },
  {
   "cell_type": "markdown",
   "metadata": {
    "collapsed": false
   },
   "source": [
    "To make this easier, we can package this all into a function, which we can define as follows:"
   ]
  },
  {
   "cell_type": "code",
   "execution_count": 0,
   "metadata": {
    "collapsed": false,
    "vscode": {
     "languageId": "plaintext"
    }
   },
   "outputs": [
   ],
   "source": [
    "def func():\n",
    "    pass # pass just means there's nothing here - stops the code from breaking"
   ]
  },
  {
   "cell_type": "markdown",
   "metadata": {
    "collapsed": false
   },
   "source": [
    "A function can also take in parameters (the number isn't limited):"
   ]
  },
  {
   "cell_type": "code",
   "execution_count": 0,
   "metadata": {
    "collapsed": false,
    "vscode": {
     "languageId": "plaintext"
    }
   },
   "outputs": [
   ],
   "source": [
    "def param(arg0, arg1):\n",
    "    print(arg0, arg1)"
   ]
  },
  {
   "cell_type": "markdown",
   "metadata": {
    "collapsed": false
   },
   "source": [
    "Then we can call it like this:"
   ]
  },
  {
   "cell_type": "code",
   "execution_count": 0,
   "metadata": {
    "collapsed": false,
    "vscode": {
     "languageId": "plaintext"
    }
   },
   "outputs": [
   ],
   "source": [
    "param('AI','CAMP')"
   ]
  },
  {
   "cell_type": "markdown",
   "metadata": {
    "collapsed": false
   },
   "source": [
    "Additionally, a function can hand back a value using a return statement"
   ]
  },
  {
   "cell_type": "code",
   "execution_count": 0,
   "metadata": {
    "collapsed": false,
    "vscode": {
     "languageId": "plaintext"
    }
   },
   "outputs": [
   ],
   "source": [
    "def ret():\n",
    "    return 'Bananas'"
   ]
  },
  {
   "cell_type": "markdown",
   "metadata": {
    "collapsed": false
   },
   "source": [
    "This value can then be accessed as follows: (If you use parameters, the value can change based on the situation)"
   ]
  },
  {
   "cell_type": "code",
   "execution_count": 0,
   "metadata": {
    "collapsed": false,
    "vscode": {
     "languageId": "plaintext"
    }
   },
   "outputs": [
   ],
   "source": [
    "val = ret()\n",
    "print(val)"
   ]
  },
  {
   "cell_type": "markdown",
   "metadata": {
    "collapsed": false
   },
   "source": [
    "If you have a variable, you can also increment it in a function, like this"
   ]
  },
  {
   "cell_type": "code",
   "execution_count": 0,
   "metadata": {
    "collapsed": false,
    "vscode": {
     "languageId": "plaintext"
    }
   },
   "outputs": [
   ],
   "source": [
    "counter = 0\n",
    "def inc():\n",
    "    counter += 1\n",
    "inc()\n",
    "counter"
   ]
  },
  {
   "cell_type": "markdown",
   "metadata": {
    "collapsed": false
   },
   "source": [
    "Then print it like this"
   ]
  },
  {
   "cell_type": "code",
   "execution_count": 0,
   "metadata": {
    "collapsed": false,
    "vscode": {
     "languageId": "plaintext"
    }
   },
   "outputs": [
   ],
   "source": [
    "print('counter value:', counter)"
   ]
  },
  {
   "cell_type": "markdown",
   "metadata": {
    "collapsed": false
   },
   "source": [
    "Now put this all together: (if you want to use return, you can work to integrate it with your team)"
   ]
  },
  {
   "cell_type": "code",
   "execution_count": 12,
   "metadata": {
    "cocalc": {
     "outputs": {
      "1": {
       "name": "input",
       "opts": {
        "password": false,
        "prompt": "what is this word?"
       },
       "output_type": "stream",
       "value": "cat"
      },
      "3": {
       "name": "input",
       "opts": {
        "password": false,
        "prompt": "Guess what word this is?"
       },
       "output_type": "stream",
       "value": "hat"
      },
      "5": {
       "name": "input",
       "opts": {
        "password": false,
        "prompt": "Guess what word this is?"
       },
       "output_type": "stream",
       "value": "flowwwe"
      }
     }
    },
    "collapsed": false,
    "vscode": {
     "languageId": "plaintext"
    }
   },
   "outputs": [
    {
     "name": "stdout",
     "output_type": "stream",
     "text": [
      "This is a word guessing game\n",
      "a small domesticated carnivorous mammal with soft fur, a short snout, and retractable claws. It is widely kept as a pet or for catching mice\n"
     ]
    },
    {
     "name": "stdout",
     "output_type": "stream",
     "text": "what is this word? cat"
    },
    {
     "name": "stdout",
     "output_type": "stream",
     "text": [
      "Good Job!\n",
      "Here is your next word:\n",
      "a shaped covering for the head worn for warmth, as a fashion item, or as part of a uniform.\n"
     ]
    },
    {
     "name": "stdout",
     "output_type": "stream",
     "text": "Guess what word this is? hat"
    },
    {
     "name": "stdout",
     "output_type": "stream",
     "text": [
      "Yay good job it's correct\n",
      "Here is your next word:\n",
      "the seed-bearing part of a plant, consisting of reproductive organs that are typically surrounded by a brightly colored corolla and a green calyx\n"
     ]
    },
    {
     "name": "stdout",
     "output_type": "stream",
     "text": "Guess what word this is? flowwwe"
    },
    {
     "name": "stdout",
     "output_type": "stream",
     "text": [
      "Your answer was wrong, The correct answer is flower.\n",
      "Thanks for playing!\n"
     ]
    }
   ],
   "source": [
    "flashcards = {\n",
    "    'cat':'a small domesticated carnivorous mammal with soft fur, a short snout, and retractable claws. It is widely kept as a pet or for catching mice',\n",
    "    'hat':'a shaped covering for the head worn for warmth, as a fashion item, or as part of a uniform.' ,\n",
    "    'flower':'the seed-bearing part of a plant, consisting of reproductive organs that are typically surrounded by a brightly colored corolla and a green calyx'}\n",
    "\n",
    "print(\"This is a word guessing game\")\n",
    "\n",
    "print(flashcards['cat'])\n",
    "guess1 = input('what is this word?')\n",
    "if guess1 == 'cat':\n",
    "    print(\"Good Job!\")\n",
    "else:\n",
    "    print(\"Incorrect, the answer was cat.\")\n",
    "\n",
    "print(\"Here is your next word:\")\n",
    "print(flashcards['hat'])\n",
    "\n",
    "guess2 = input('Guess what word this is?')\n",
    "if guess2 == 'hat':\n",
    "    print(\"Yay good job it's correct\")\n",
    "else:\n",
    "    print(\"Your answer was wrong, The correct answer is hat.\")\n",
    "\n",
    "print(\"Here is your next word:\")\n",
    "print(flashcards['flower'])\n",
    "guess3 = input('Guess what word this is?')\n",
    "if guess3 == 'flower':\n",
    "    print(\"Yay good job it's correct\")\n",
    "else:\n",
    "    print(\"Your answer was wrong, The correct answer is flower.\")\n",
    "\n",
    "print(\"Thanks for playing!\")"
   ]
  },
  {
   "cell_type": "code",
   "execution_count": 0,
   "metadata": {
    "collapsed": false
   },
   "outputs": [
   ],
   "source": [
   ]
  },
  {
   "cell_type": "code",
   "execution_count": 0,
   "metadata": {
    "collapsed": false
   },
   "outputs": [
   ],
   "source": [
   ]
  }
 ],
 "metadata": {
  "kernelspec": {
   "display_name": "Python (nlp_env)",
   "language": "python",
   "metadata": {
    "debugger": true
   },
   "name": "nlp_env",
   "resource_dir": "/projects/0ddeade5-3577-4fe8-8cd6-8a0cb653428e/.local/share/jupyter/kernels/nlp_env"
  },
  "language_info": {
   "codemirror_mode": {
    "name": "ipython",
    "version": 3
   },
   "file_extension": ".py",
   "mimetype": "text/x-python",
   "name": "python",
   "nbconvert_exporter": "python",
   "pygments_lexer": "ipython3",
   "version": "3.8.13"
  },
  "orig_nbformat": 4
 },
 "nbformat": 4,
 "nbformat_minor": 4
}